{
 "cells": [
  {
   "cell_type": "markdown",
   "metadata": {},
   "source": [
    "# Tableau - Extract tables and queries\n",
    "\n",
    "### 1. Set-up Notebook"
   ]
  },
  {
   "cell_type": "code",
   "execution_count": 1,
   "metadata": {},
   "outputs": [],
   "source": [
    "import tableauserverclient as TSC\n",
    "import zipfile\n",
    "import os\n",
    "import yaml\n",
    "import tqdm\n",
    "import json\n",
    "from bs4 import BeautifulSoup\n",
    "\n",
    "import pandas as pd"
   ]
  },
  {
   "cell_type": "code",
   "execution_count": 2,
   "metadata": {},
   "outputs": [],
   "source": [
    "def tableau_creds(yaml_path):\n",
    "    \n",
    "    \"\"\"\n",
    "    Returns authorization and server objects needed for signing into Tableau Server\n",
    "    Requires yaml_file with user_name, password, and server_name fields.\n",
    "    \"\"\"\n",
    "\n",
    "    with open(yaml_path) as file:\n",
    "        tableau_creds = yaml.safe_load(file)\n",
    "    \n",
    "    #Create auth and server to connect to Tableau server\n",
    "    auth = TSC.TableauAuth(tableau_creds['user_name'], tableau_creds['password'])\n",
    "    server = TSC.Server(tableau_creds['server_name'], use_server_version=True)\n",
    "    \n",
    "    return auth, server"
   ]
  },
  {
   "cell_type": "code",
   "execution_count": 3,
   "metadata": {},
   "outputs": [],
   "source": [
    "def grab_workbook_ids(auth, server):\n",
    "    \n",
    "    \"\"\"\n",
    "    Requires authorization and server objects from tableau_creds()\n",
    "    For all workbooks on Tableau Server, pairs workbook's name its unique id\n",
    "    Returns dictionary of workbook_name:workbook_id pairings\n",
    "    \"\"\"\n",
    "    \n",
    "    workbook_ids = {}\n",
    "    \n",
    "    with server.auth.sign_in(auth):\n",
    "        all_workbooks = TSC.Pager(server.workbooks)\n",
    "        \n",
    "        for workbook in all_workbooks:\n",
    "            workbook_ids[workbook.name] = workbook.id\n",
    "        \n",
    "    return workbook_ids"
   ]
  },
  {
   "cell_type": "code",
   "execution_count": 4,
   "metadata": {},
   "outputs": [],
   "source": [
    "def download_and_extract(auth, server, workbook_name, workbook_id, desired_filepath='workbooks'):\n",
    "    \n",
    "    \"\"\"\n",
    "    Requires authorization and server objects from tableau_creds()\n",
    "    Downloads individual workbooks from Tableau Server.\n",
    "    Extracts workbook from zipped file if need (zipped file is then removed)\n",
    "    Returns file_path to Tableau workbook with file format .twb\n",
    "    \"\"\"\n",
    "    \n",
    "    with server.auth.sign_in(auth):\n",
    "        \n",
    "        download_path = server.workbooks.download(workbook_id, filepath = desired_filepath, include_extract=False)\n",
    "        \n",
    "        #If dashboard in zipped file format (.twbx), extracts only the dashboard file (.twb).\n",
    "        #Then deletes original zipped file.\n",
    "        if zipfile.is_zipfile(download_path):\n",
    "            with zipfile.ZipFile(download_path,'r') as zipObj:\n",
    "                #Get a list of all file names\n",
    "                filenames = zipObj.namelist()\n",
    "                #For each file in zipped object, extract only those with .twb ending\n",
    "                #Expecting only one per zipped object\n",
    "                for filename in filenames:\n",
    "                    if filename.endswith('.twb'):\n",
    "                        filepath = zipObj.extract(member=filename, path = desired_filepath)    \n",
    "            os.remove(download_path)\n",
    "        \n",
    "        else:\n",
    "            filepath = download_path\n",
    "            \n",
    "        return filepath     "
   ]
  },
  {
   "cell_type": "code",
   "execution_count": 5,
   "metadata": {},
   "outputs": [],
   "source": [
    "def extract_datasources(file_path):\n",
    "    \"\"\"\n",
    "    Requires file_path to Tableau workbook (which is returned by function download_and_extract)\n",
    "    Searches through datasources in Tableau workbook, \n",
    "    Returns dictionary containing queries and tables\n",
    "    \"\"\"\n",
    "\n",
    "    results = {}\n",
    "    \n",
    "    #Open Tableau dashboard and convert using BeautifulSoup\n",
    "    with open(file_path, 'r', encoding='utf8') as file:\n",
    "        wb = file.read()\n",
    "        soup = BeautifulSoup(wb, 'xml')\n",
    "\n",
    "        #Finds all 'datasource' tags and their children\n",
    "        datasources = soup.find_all('datasource')\n",
    "\n",
    "        for datasource in datasources:\n",
    "            relations = datasource.find_all('relation', {'type':['text', 'table']})\n",
    "            \n",
    "            for relation in relations:\n",
    "                if (relation.attrs['type'] == 'table') & (relation.attrs['name'] != 'Extract'):\n",
    "                    table = relation.attrs['table'].replace('[','').replace(']','')\n",
    "                    name = relation.attrs['name']\n",
    "                    if relation.parent.has_attr('class'):\n",
    "                        connection = relation.parent.attrs['class']\n",
    "                    else:\n",
    "                        connection = 'no_class'\n",
    "                    results['table-{},{}'.format(name, connection)] = table\n",
    "                elif relation.attrs['type'] == 'text':\n",
    "                    query = relation.contents[0]\n",
    "                    name = relation.attrs['name']\n",
    "                    if relation.parent.has_attr('class'):\n",
    "                        connection = relation.parent.attrs['class']\n",
    "                    else:\n",
    "                        connection = 'no_class'\n",
    "                    results['query-{}, {}'.format(name, connection)] = query \n",
    "        \n",
    "        return results"
   ]
  },
  {
   "cell_type": "markdown",
   "metadata": {},
   "source": [
    "### 3. Extract queries/tables from all workbooks"
   ]
  },
  {
   "cell_type": "code",
   "execution_count": 6,
   "metadata": {},
   "outputs": [],
   "source": [
    "def extract_all(yaml_path):\n",
    "    \n",
    "    all_sources = {}\n",
    "    \n",
    "    auth, server = tableau_creds(yaml_path)\n",
    "    \n",
    "    workbook_names_ids = grab_workbook_ids(auth, server)\n",
    "    \n",
    "    try:\n",
    "        for workbook_name, workbook_id in tqdm.tqdm(workbook_names_ids.items()):\n",
    "            #Remove 'Which Tableau Should I Look At' - It pulls only information from Tableau Server itself\n",
    "            if workbook_name not in ('Which Tableau Should I Look At'):\n",
    "                workbook_path = download_and_extract(auth, server, workbook_name, workbook_id, desired_filepath = 'workbooks')\n",
    "                sources = extract_datasources(workbook_path)\n",
    "\n",
    "                os.remove(workbook_path)\n",
    "\n",
    "            all_sources[workbook_name] = sources\n",
    "    except Exception as e:\n",
    "        all_sources[workbook_name] = 'Failed because of {}'.format()\n",
    "    return all_sources"
   ]
  },
  {
   "cell_type": "code",
   "execution_count": 7,
   "metadata": {},
   "outputs": [
    {
     "name": "stderr",
     "output_type": "stream",
     "text": [
      "100%|████████████████████████████████████████████████████████████████████████████████| 207/207 [02:16<00:00,  1.52it/s]\n"
     ]
    }
   ],
   "source": [
    "all_sources = extract_all('C:/Users/tylers/Documents/credentials/tableau_credentials.yml')"
   ]
  },
  {
   "cell_type": "code",
   "execution_count": 8,
   "metadata": {},
   "outputs": [],
   "source": [
    "#Store dictionary containing wokrbook names and queries/tables to a json file\n",
    "#Currently does not have Marketing_Dashboard_Acquisitions workbook (issues downloading)\n",
    "with open('data/all_sources.json', 'w') as f:\n",
    "    json.dump(all_sources, f)"
   ]
  }
 ],
 "metadata": {
  "kernelspec": {
   "display_name": "Python 3",
   "language": "python",
   "name": "python3"
  },
  "language_info": {
   "codemirror_mode": {
    "name": "ipython",
    "version": 3
   },
   "file_extension": ".py",
   "mimetype": "text/x-python",
   "name": "python",
   "nbconvert_exporter": "python",
   "pygments_lexer": "ipython3",
   "version": "3.7.5"
  }
 },
 "nbformat": 4,
 "nbformat_minor": 4
}

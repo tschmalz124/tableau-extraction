{
 "cells": [
  {
   "cell_type": "markdown",
   "metadata": {},
   "source": [
    "# Tableau - Extract tables and queries\n",
    "\n",
    "### 1. Set-up Notebook"
   ]
  },
  {
   "cell_type": "code",
   "execution_count": 1,
   "metadata": {},
   "outputs": [],
   "source": [
    "from json import load\n",
    "import pandas\n",
    "\n",
    "pandas.set_option('display.max_rows', 1000)"
   ]
  },
  {
   "cell_type": "code",
   "execution_count": 2,
   "metadata": {},
   "outputs": [],
   "source": [
    "#Loading Andrea's parse_sql_files script\n",
    "%run ../sql_parse/parse_sql_files"
   ]
  },
  {
   "cell_type": "code",
   "execution_count": 3,
   "metadata": {},
   "outputs": [],
   "source": [
    "def json_to_df(json_filepath):\n",
    "    \n",
    "    \"\"\"\n",
    "    Expects filepath to JSON file from extract_all function.\n",
    "    Takes all tables and queries from Tableau extraction, passes queries through sql parsing script to find table names and columns\n",
    "    Returns pandas dataframe containing columns [workbook_name, connection_source (keep?), table name, column]\n",
    "    \"\"\"\n",
    "    \n",
    "    lst = []\n",
    "    \n",
    "    with open(json_filepath) as f:\n",
    "        all_sources = load(f)\n",
    "    \n",
    "        #loop through each workbook and it's attached datasources\n",
    "        for workbook_name, datasources in all_sources.items():\n",
    "            \n",
    "            #Checking that there is atleast one datasource (i.e. dictionary is not empty)\n",
    "            if bool(datasources):\n",
    "                #Loop through each datasource name and its contents (e.g. table or query)\n",
    "                for datasource_name, value in datasources.items():\n",
    "\n",
    "                    #Grab connection type from datasource name.  Should be table or query\n",
    "                    connection_type = datasource_name.split('-')[0]\n",
    "\n",
    "                    if connection_type == 'table':\n",
    "                        #For direct table connections, reports empty column value.  Tableau basically imports all columns from a direct table connection, but more difficult to tell which ones are actually used in the visualization\n",
    "                        column = ''\n",
    "                        lst.append([workbook_name, value, column])\n",
    "\n",
    "                    elif connection_type == 'query':\n",
    "                        #Parse SQL query \n",
    "                        psf = parse_sql_files(value)\n",
    "                        table_columns = psf.get_basic_tables_and_columns()['tables']\n",
    "\n",
    "                        #If parse_sql_files struggles to find any table names, converts table to empty string so workbook is still added to list and included in dataframe\n",
    "                        for table, columns in table_columns.items():\n",
    "                            #If the sql parsing is able to identify columns, it adds a row for each table-column pairing\n",
    "                            if len(columns)>0:\n",
    "                                for column in columns:\n",
    "                                    column = column.split('.')[1]\n",
    "                                    lst.append([workbook_name, table, column])\n",
    "                            #If the sql parsing cannot identify columns, returns a single row with empty column\n",
    "                            elif len(columns)==0:\n",
    "                                column = ''\n",
    "                                lst.append([workbook_name, table, column])\n",
    "            else:\n",
    "                lst.append([workbook_name, '', ''])\n",
    "                        \n",
    "    df = pandas.DataFrame(lst, columns=['workbook_name', 'table', 'column'])\n",
    "    \n",
    "    return df"
   ]
  },
  {
   "cell_type": "code",
   "execution_count": 4,
   "metadata": {},
   "outputs": [],
   "source": [
    "df = json_to_df('data/all_sources.json')"
   ]
  },
  {
   "cell_type": "code",
   "execution_count": 5,
   "metadata": {},
   "outputs": [],
   "source": [
    "df.to_csv('data/tableau_extractions.csv')"
   ]
  },
  {
   "cell_type": "code",
   "execution_count": null,
   "metadata": {},
   "outputs": [],
   "source": []
  }
 ],
 "metadata": {
  "kernelspec": {
   "display_name": "Python 3",
   "language": "python",
   "name": "python3"
  },
  "language_info": {
   "codemirror_mode": {
    "name": "ipython",
    "version": 3
   },
   "file_extension": ".py",
   "mimetype": "text/x-python",
   "name": "python",
   "nbconvert_exporter": "python",
   "pygments_lexer": "ipython3",
   "version": "3.7.5"
  }
 },
 "nbformat": 4,
 "nbformat_minor": 4
}
